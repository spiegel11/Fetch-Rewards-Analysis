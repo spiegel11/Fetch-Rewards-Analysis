{
 "cells": [
  {
   "cell_type": "code",
   "execution_count": 1,
   "id": "657ee0b9-9a91-4e52-b71f-adc10587e461",
   "metadata": {},
   "outputs": [],
   "source": [
    "import pandas as pd\n",
    "import numpy as np\n",
    "from datetime import datetime\n",
    "import json\n",
    "\n",
    "# Load the JSON file \n",
    "brands_json = []\n",
    "with open('brands.json', 'r') as file:\n",
    "    for line in file:\n",
    "        brands_json.append(json.loads(line))\n",
    "\n",
    "# Function to process JSON data into a DataFrame\n",
    "def brands_json_to_df(json_data):\n",
    "    # Create a list to hold processed records\n",
    "    records = []\n",
    "    \n",
    "    for item in json_data:\n",
    "        # Extract all necessary fields into a single dictionary\n",
    "        record = {\n",
    "            \"product_id\": item[\"_id\"][\"$oid\"],              \n",
    "            \"name\": item[\"name\"],                          \n",
    "            \"barcode\": item.get(\"barcode\"),         \n",
    "            \"category\": item.get(\"category\"),       \n",
    "            \"category_code\": item.get(\"categoryCode\"),  \n",
    "            \"brand_code\": item.get(\"brandCode\"),    \n",
    "            \"top_brand\": item.get(\"topBrand\"),      \n",
    "            \"cpg_id\": item[\"cpg\"][\"$id\"][\"$oid\"],          \n",
    "            \"ref\": item[\"cpg\"][\"$ref\"]                     \n",
    "        }\n",
    "        records.append(record)\n",
    "    \n",
    "    # Create a single DataFrame\n",
    "    df = pd.DataFrame(records)\n",
    "    return df\n",
    "\n",
    "# Call the function to process JSON data\n",
    "brands_df = brands_json_to_df(brands_json)"
   ]
  },
  {
   "cell_type": "code",
   "execution_count": 2,
   "id": "f94d8403-0cd7-4738-a461-374f0bed6052",
   "metadata": {},
   "outputs": [],
   "source": [
    "# Load the JSON file \n",
    "users_json = []\n",
    "with open('users.json', 'r') as file:\n",
    "    for line in file:\n",
    "        users_json.append(json.loads(line))\n",
    "\n",
    "# Function to process JSON data into a DataFrame\n",
    "def users_json_to_df(json_data):\n",
    "    # Create a list to hold processed records\n",
    "    user_records = []\n",
    "    \n",
    "    for item in json_data:\n",
    "        # Extract all necessary fields, handling missing fields with .get()\n",
    "        user_record = {\n",
    "            \"user_id\": item[\"_id\"][\"$oid\"],                              # Unique user ID\n",
    "            \"active\": item[\"active\"],                                   # Active status\n",
    "            \"created_date\": datetime.utcfromtimestamp(item[\"createdDate\"][\"$date\"] / 1000),  # Convert timestamp to datetime\n",
    "            \"last_login\": datetime.utcfromtimestamp(item[\"lastLogin\"][\"$date\"] / 1000) if \"lastLogin\" in item else np.nan,  # Handle optional field\n",
    "            \"role\": item[\"role\"],                                       # User role\n",
    "            \"sign_up_source\": item.get(\"signUpSource\", np.nan),         # Handle missing signUpSource\n",
    "            \"state\": item.get(\"state\", np.nan)                          # Handle missing state\n",
    "        }\n",
    "        user_records.append(user_record)\n",
    "    \n",
    "    # Create DataFrame\n",
    "    users_df = pd.DataFrame(user_records)\n",
    "    return users_df\n",
    "\n",
    "# Call the function to process JSON data\n",
    "users_df = users_json_to_df(users_json)"
   ]
  },
  {
   "cell_type": "code",
   "execution_count": 3,
   "id": "23c5b4c5-c836-4e47-817a-b38666643bf8",
   "metadata": {},
   "outputs": [],
   "source": [
    "receipts_json = []\n",
    "with open('receipts.json', 'r') as file:\n",
    "    for line in file:\n",
    "        receipts_json.append(json.loads(line))\n",
    "\n",
    "# Step 2: Extract Receipts Table and Rewards Items Table\n",
    "receipts = []\n",
    "rewards_items = []\n",
    "\n",
    "for record in receipts_json:\n",
    "    # Main receipt fields\n",
    "    receipt = {\n",
    "        \"receipt_id\": record.get(\"_id\", {}).get(\"$oid\"),\n",
    "        \"bonusPointsEarned\": record.get(\"bonusPointsEarned\"),\n",
    "        \"bonusPointsReason\": record.get(\"bonusPointsEarnedReason\"),\n",
    "        \"createDate\": record.get(\"createDate\", {}).get(\"$date\"),\n",
    "        \"dateScanned\": record.get(\"dateScanned\", {}).get(\"$date\"),\n",
    "        \"finishedDate\": record.get(\"finishedDate\", {}).get(\"$date\"),\n",
    "        \"modifyDate\": record.get(\"modifyDate\", {}).get(\"$date\"),\n",
    "        \"pointsAwardedDate\": record.get(\"pointsAwardedDate\", {}).get(\"$date\"),\n",
    "        \"pointsEarned\": record.get(\"pointsEarned\"),\n",
    "        \"purchaseDate\": record.get(\"purchaseDate\", {}).get(\"$date\"),\n",
    "        \"purchasedItemCount\": record.get(\"purchasedItemCount\"),\n",
    "        \"rewardsReceiptStatus\": record.get(\"rewardsReceiptStatus\"),\n",
    "        \"totalSpent\": record.get(\"totalSpent\"),\n",
    "        \"userId\": record.get(\"userId\")\n",
    "    }\n",
    "    receipts.append(receipt)\n",
    "    \n",
    "    # Rewards Receipt Items Table\n",
    "    for item in record.get(\"rewardsReceiptItemList\", []):\n",
    "        rewards_items.append({\n",
    "            \"receipt_id\": record.get(\"_id\", {}).get(\"$oid\"),  # Foreign key\n",
    "            \"barcode\": item.get(\"barcode\"),\n",
    "            \"brandCode\":item.get(\"brandCode\"),\n",
    "            \"description\": item.get(\"description\"),\n",
    "            \"finalPrice\": item.get(\"finalPrice\"),\n",
    "            \"itemPrice\": item.get(\"itemPrice\"),\n",
    "            \"partnerItemId\": item.get(\"partnerItemId\"),\n",
    "            \"quantityPurchased\": item.get(\"quantityPurchased\"),\n",
    "            \"rewardsGroup\": item.get(\"rewardsGroup\"),\n",
    "            \"rewardsProductPartnerId\": item.get(\"rewardsProductPartnerId\"),\n",
    "            \"pointsEarned\": item.get(\"pointsEarned\"),\n",
    "            \"pointsPayerId\": item.get(\"pointsPayerId\"),\n",
    "            \"needsFetchReview\": item.get(\"needsFetchReview\"),\n",
    "            \"userFlaggedBarcode\": item.get(\"userFlaggedBarcode\"),\n",
    "            \"userFlaggedPrice\": item.get(\"userFlaggedPrice\"),\n",
    "            \"userFlaggedQuantity\": item.get(\"userFlaggedQuantity\"),\n",
    "            \"userFlaggedNewItem\": item.get(\"userFlaggedNewItem\"),\n",
    "        })\n",
    "\n",
    "# Step 3: Convert to DataFrame\n",
    "receipts_df = pd.DataFrame(receipts)\n",
    "rewards_items_df = pd.DataFrame(rewards_items)"
   ]
  },
  {
   "cell_type": "markdown",
   "id": "85a27958-af1e-427f-b5a1-1b56b28e9f00",
   "metadata": {},
   "source": [
    "Data Quality Check - Brands Table"
   ]
  },
  {
   "cell_type": "code",
   "execution_count": 5,
   "id": "d2cbe57d-f712-43a8-947e-51ffaa4a5936",
   "metadata": {},
   "outputs": [
    {
     "name": "stdout",
     "output_type": "stream",
     "text": [
      "Missing Values:\n",
      " product_id         0\n",
      "name               0\n",
      "barcode            0\n",
      "category         155\n",
      "category_code    650\n",
      "brand_code       234\n",
      "top_brand        612\n",
      "cpg_id             0\n",
      "ref                0\n",
      "dtype: int64\n",
      "Missing Percentage:\n",
      " product_id        0.000000\n",
      "name              0.000000\n",
      "barcode           0.000000\n",
      "category         13.281919\n",
      "category_code    55.698372\n",
      "brand_code       20.051414\n",
      "top_brand        52.442159\n",
      "cpg_id            0.000000\n",
      "ref               0.000000\n",
      "dtype: float64\n"
     ]
    }
   ],
   "source": [
    "# Check missing value\n",
    "missing_values = brands_df.isnull().sum()\n",
    "missing_percentage = brands_df.isnull().mean() * 100\n",
    "print(\"Missing Values:\\n\", missing_values)\n",
    "print(\"Missing Percentage:\\n\", missing_percentage)"
   ]
  },
  {
   "cell_type": "code",
   "execution_count": 6,
   "id": "613160fd-3259-4160-87c0-c8e1f6c483e7",
   "metadata": {},
   "outputs": [],
   "source": [
    "# There are lots of missing values in category, category_code, brand_code, top_brand columns. "
   ]
  },
  {
   "cell_type": "code",
   "execution_count": 7,
   "id": "77b6eebf-bb4f-414a-9884-27918929f85a",
   "metadata": {},
   "outputs": [
    {
     "name": "stdout",
     "output_type": "stream",
     "text": [
      "Number of rows containing 'test' in 'name': 432\n",
      "Percentage of rows containing 'test' in 'name': 37.02%\n",
      "Number of rows containing 'test' in 'brand_code': 360\n",
      "Percentage of rows containing 'test' in 'brand_code': 30.85%\n"
     ]
    }
   ],
   "source": [
    "# I observed that there are strings contains \"test\", it might not suitable for furthere analysis \n",
    "# check for 'test' or similar placeholders in the 'name' or 'brand_code' columns:\n",
    "\n",
    "# Check for 'test' in the 'name' column\n",
    "name_test_data = brands_df[brands_df['name'].str.contains('test', case=False, na=False)]\n",
    "name_test_count = len(name_test_data)\n",
    "name_test_percentage = (name_test_count / len(brands_df)) * 100\n",
    "\n",
    "# Check for 'test' in the 'brand_code' column\n",
    "brand_code_test_data = brands_df[brands_df['brand_code'].str.contains('test', case=False, na=False)]\n",
    "brand_code_test_count = len(brand_code_test_data)\n",
    "brand_code_test_percentage = (brand_code_test_count / len(brands_df)) * 100\n",
    "\n",
    "# Output the results\n",
    "print(f\"Number of rows containing 'test' in 'name': {name_test_count}\")\n",
    "print(f\"Percentage of rows containing 'test' in 'name': {name_test_percentage:.2f}%\")\n",
    "\n",
    "print(f\"Number of rows containing 'test' in 'brand_code': {brand_code_test_count}\")\n",
    "print(f\"Percentage of rows containing 'test' in 'brand_code': {brand_code_test_percentage:.2f}%\")"
   ]
  },
  {
   "cell_type": "code",
   "execution_count": 8,
   "id": "0cc5bc84-6d2c-43b1-8523-ba53e8ea9885",
   "metadata": {},
   "outputs": [
    {
     "name": "stdout",
     "output_type": "stream",
     "text": [
      "Values in 'category' but not in 'category_code': {'breakfast_&_cereal', 'condiments_&_sauces', 'household', 'beauty_&_personal_care', 'canned_goods_&_soups', 'candy_&_sweets', 'health_&_wellness', 'dairy', 'dairy_&_refrigerated', 'cleaning_&_home_improvement', 'deli', 'snacks', 'bread_&_bakery', 'beauty'}\n",
      "Values in 'category_code' but not in 'category': {'bread_and_bakery', 'cleaning_and_home_improvement', 'dairy_and_refrigerated', 'candy_and_sweets', 'healthy_and_wellness'}\n"
     ]
    }
   ],
   "source": [
    "# Create a copy of the DataFrame\n",
    "brand_df_copy = brands_df.copy()\n",
    "\n",
    "# Normalize formats in the copied table\n",
    "brand_df_copy['category_normalized'] = brand_df_copy['category'].str.lower().str.replace(\" \", \"_\")\n",
    "brand_df_copy['category_code_normalized'] = brand_df_copy['category_code'].str.lower()\n",
    "\n",
    "# Compare normalized values\n",
    "category_set = set(brand_df_copy['category_normalized'].dropna().unique())\n",
    "category_code_set = set(brand_df_copy['category_code_normalized'].dropna().unique())\n",
    "\n",
    "# Find mismatched values\n",
    "only_in_category = category_set - category_code_set\n",
    "only_in_category_code = category_code_set - category_set\n",
    "\n",
    "# Output the results\n",
    "print(\"Values in 'category' but not in 'category_code':\", only_in_category)\n",
    "print(\"Values in 'category_code' but not in 'category':\", only_in_category_code)"
   ]
  },
  {
   "cell_type": "code",
   "execution_count": 9,
   "id": "27cbfd95-d94d-4af6-8897-c078da1874bf",
   "metadata": {},
   "outputs": [],
   "source": [
    "# From observation we can know that mismatch exists, but seems like it is just \"and\" used as \"&\" in category secion. Those values missed \n",
    "# are actually: snacks, dairy, household, breakfast_&_cereal, canned_goods_&_soups, deli, beauty, condiments_&_sauces"
   ]
  },
  {
   "cell_type": "markdown",
   "id": "50d23a3c-be46-4354-8b77-2545ce57230d",
   "metadata": {},
   "source": [
    "Data Quality Check - Users Table"
   ]
  },
  {
   "cell_type": "code",
   "execution_count": 11,
   "id": "6ced2cd4-c547-4845-8f0d-ede97eec3113",
   "metadata": {},
   "outputs": [
    {
     "name": "stdout",
     "output_type": "stream",
     "text": [
      "Number of duplicated rows: 353\n",
      "\n",
      "Number of duplicate rows per user:\n",
      "user_id\n",
      "54943462e4b07e684157a532    20\n",
      "5fc961c3b8cfca11a077dd33    20\n",
      "5ff5d15aeb7c7d12096d91a2    18\n",
      "59c124bae4b0299e55b0f330    18\n",
      "5fa41775898c7a11a6bcef3e    18\n",
      "                            ..\n",
      "5ff7268eeb7c7d12096da2a9     2\n",
      "5ff73b90eb7c7d31ca8a452b     2\n",
      "600f41b2bd196811e68ea219     2\n",
      "601c2c05969c0b11f7d0b097     2\n",
      "60229990b57b8a12187fe9e0     2\n",
      "Length: 70, dtype: int64\n"
     ]
    }
   ],
   "source": [
    "# Define columns to consider for identifying the same login session\n",
    "key_columns = ['user_id', 'created_date', 'last_login', 'role', 'sign_up_source', 'state']\n",
    "\n",
    "# Find exact duplicated rows based on the key columns\n",
    "duplicated_rows = users_df[users_df.duplicated(subset=key_columns, keep=False)]\n",
    "\n",
    "# Count and display duplicate rows\n",
    "print(f\"Number of duplicated rows: {len(duplicated_rows)}\")\n",
    "\n",
    "# Group duplicates by user_id \n",
    "grouped_duplicates = duplicated_rows.groupby('user_id').size()\n",
    "print(\"\\nNumber of duplicate rows per user:\")\n",
    "print(grouped_duplicates.sort_values(ascending=False))"
   ]
  },
  {
   "cell_type": "markdown",
   "id": "443e4e64-3108-4fe1-84ae-c110b1024166",
   "metadata": {},
   "source": [
    "There are duplicated login sessions based on the list of users provided, this might affect further analysis"
   ]
  },
  {
   "cell_type": "code",
   "execution_count": 13,
   "id": "850ea9c3-2e1b-4a8f-9400-8d1b5499d307",
   "metadata": {},
   "outputs": [
    {
     "name": "stdout",
     "output_type": "stream",
     "text": [
      "\n",
      "Missing Values (Count and Percentage):\n",
      "user_id            0\n",
      "active             0\n",
      "created_date       0\n",
      "last_login        62\n",
      "role               0\n",
      "sign_up_source    48\n",
      "state             56\n",
      "dtype: int64\n",
      "user_id            0.000000\n",
      "active             0.000000\n",
      "created_date       0.000000\n",
      "last_login        12.525253\n",
      "role               0.000000\n",
      "sign_up_source     9.696970\n",
      "state             11.313131\n",
      "dtype: float64\n"
     ]
    }
   ],
   "source": [
    "# Check for missing values across df\n",
    "missing_values = users_df.isnull().sum()\n",
    "missing_percentage = (missing_values / len(users_df)) * 100\n",
    "print(\"\\nMissing Values (Count and Percentage):\")\n",
    "print(missing_values)\n",
    "print(missing_percentage)"
   ]
  },
  {
   "cell_type": "code",
   "execution_count": 14,
   "id": "12e81eca-38a1-452c-bd6b-1ebcc9f72c2a",
   "metadata": {},
   "outputs": [
    {
     "name": "stdout",
     "output_type": "stream",
     "text": [
      "\n",
      "Unique values in 'role':\n",
      "['consumer' 'fetch-staff']\n"
     ]
    }
   ],
   "source": [
    "# Check for inconsistent values in role column\n",
    "print(\"\\nUnique values in 'role':\")\n",
    "print(users_df['role'].unique())"
   ]
  },
  {
   "cell_type": "markdown",
   "id": "4714b9d4-1c31-4ac9-b296-636948f5bf75",
   "metadata": {},
   "source": [
    "We should only consider to use value as \"consumer\" in role column to analyze the data, \"fetch-staff\" will affect further analysis"
   ]
  },
  {
   "cell_type": "code",
   "execution_count": 16,
   "id": "1df69cae-bf56-4c72-bf63-93221d1f8eba",
   "metadata": {},
   "outputs": [
    {
     "name": "stdout",
     "output_type": "stream",
     "text": [
      "\n",
      "Number of records where created_date is after last_login: 0\n"
     ]
    }
   ],
   "source": [
    "# Validate that created_date is earlier than or equal to last_login\n",
    "invalid_dates = users_df[users_df['created_date'] > users_df['last_login']]\n",
    "print(f\"\\nNumber of records where created_date is after last_login: {len(invalid_dates)}\")\n",
    "if len(invalid_dates) > 0:\n",
    "    print(\"Examples of invalid date records:\")\n",
    "    print(invalid_dates)"
   ]
  },
  {
   "cell_type": "markdown",
   "id": "6e562b36-e867-43b3-94e6-7b2a90db8fee",
   "metadata": {},
   "source": [
    "Data Quality Check - Reciept table & Rewards Item Table"
   ]
  },
  {
   "cell_type": "code",
   "execution_count": 18,
   "id": "36ba8e71-c4fe-4672-a325-5932fdb35c73",
   "metadata": {},
   "outputs": [
    {
     "name": "stdout",
     "output_type": "stream",
     "text": [
      "Missing Values (Count and Percentage):\n",
      "receipt_id                0\n",
      "bonusPointsEarned       575\n",
      "bonusPointsReason       575\n",
      "createDate                0\n",
      "dateScanned               0\n",
      "finishedDate            551\n",
      "modifyDate                0\n",
      "pointsAwardedDate       582\n",
      "pointsEarned            510\n",
      "purchaseDate            448\n",
      "purchasedItemCount      484\n",
      "rewardsReceiptStatus      0\n",
      "totalSpent              435\n",
      "userId                    0\n",
      "dtype: int64\n",
      "receipt_id               0.000000\n",
      "bonusPointsEarned       51.385165\n",
      "bonusPointsReason       51.385165\n",
      "createDate               0.000000\n",
      "dateScanned              0.000000\n",
      "finishedDate            49.240393\n",
      "modifyDate               0.000000\n",
      "pointsAwardedDate       52.010724\n",
      "pointsEarned            45.576408\n",
      "purchaseDate            40.035746\n",
      "purchasedItemCount      43.252904\n",
      "rewardsReceiptStatus     0.000000\n",
      "totalSpent              38.873995\n",
      "userId                   0.000000\n",
      "dtype: float64\n"
     ]
    }
   ],
   "source": [
    "# Check for missing values\n",
    "missing_values = receipts_df.isnull().sum()\n",
    "missing_percentage = (missing_values / len(receipts_df)) * 100\n",
    "print(\"Missing Values (Count and Percentage):\")\n",
    "print(missing_values)\n",
    "print(missing_percentage)"
   ]
  },
  {
   "cell_type": "code",
   "execution_count": 19,
   "id": "171d4f0c-48dc-4bee-bce5-b7cf04b2c739",
   "metadata": {},
   "outputs": [
    {
     "name": "stdout",
     "output_type": "stream",
     "text": [
      "\n",
      "Number of rows with invalid dates: 0\n",
      "Invalid date rows:\n",
      "Empty DataFrame\n",
      "Columns: [receipt_id, bonusPointsEarned, bonusPointsReason, createDate, dateScanned, finishedDate, modifyDate, pointsAwardedDate, pointsEarned, purchaseDate, purchasedItemCount, rewardsReceiptStatus, totalSpent, userId]\n",
      "Index: []\n"
     ]
    }
   ],
   "source": [
    "# Check for invalid or inconsistent dates\n",
    "receipts_df['createDate'] = pd.to_datetime(receipts_df['createDate'], unit='ms', errors='coerce')\n",
    "receipts_df['dateScanned'] = pd.to_datetime(receipts_df['dateScanned'], unit='ms', errors='coerce')\n",
    "receipts_df['finishedDate'] = pd.to_datetime(receipts_df['finishedDate'], unit='ms', errors='coerce')\n",
    "\n",
    "# Verify date consistency\n",
    "invalid_dates = receipts_df[(receipts_df['createDate'] > receipts_df['dateScanned']) | \n",
    "                            (receipts_df['dateScanned'] > receipts_df['finishedDate'])]\n",
    "print(\"\\nNumber of rows with invalid dates:\", len(invalid_dates))\n",
    "print(\"Invalid date rows:\")\n",
    "print(invalid_dates)"
   ]
  },
  {
   "cell_type": "code",
   "execution_count": 20,
   "id": "8de51513-1302-4c64-95cc-44c1f403ccbb",
   "metadata": {},
   "outputs": [
    {
     "name": "stdout",
     "output_type": "stream",
     "text": [
      "\n",
      "Number of duplicated receipt_ids: 0\n",
      "Duplicated receipts:\n",
      "Empty DataFrame\n",
      "Columns: [receipt_id, bonusPointsEarned, bonusPointsReason, createDate, dateScanned, finishedDate, modifyDate, pointsAwardedDate, pointsEarned, purchaseDate, purchasedItemCount, rewardsReceiptStatus, totalSpent, userId]\n",
      "Index: []\n"
     ]
    }
   ],
   "source": [
    "# Check for duplicated receipt_ids\n",
    "duplicate_receipts = receipts_df[receipts_df.duplicated(subset=['receipt_id'], keep=False)]\n",
    "print(\"\\nNumber of duplicated receipt_ids:\", len(duplicate_receipts))\n",
    "print(\"Duplicated receipts:\")\n",
    "print(duplicate_receipts)"
   ]
  },
  {
   "cell_type": "code",
   "execution_count": 21,
   "id": "2bea2c99-8e80-41db-8876-20f2031e59c3",
   "metadata": {},
   "outputs": [
    {
     "name": "stdout",
     "output_type": "stream",
     "text": [
      "\n",
      "Number of rows with negative values in numeric columns: 0\n",
      "Negative value rows:\n",
      "Empty DataFrame\n",
      "Columns: [receipt_id, bonusPointsEarned, bonusPointsReason, createDate, dateScanned, finishedDate, modifyDate, pointsAwardedDate, pointsEarned, purchaseDate, purchasedItemCount, rewardsReceiptStatus, totalSpent, userId]\n",
      "Index: []\n"
     ]
    }
   ],
   "source": [
    "# Convert columns to numeric, coercing errors (non-numeric values will become NaN)\n",
    "numeric_columns = ['bonusPointsEarned', 'pointsEarned', 'purchasedItemCount', 'totalSpent']\n",
    "for col in numeric_columns:\n",
    "    receipts_df[col] = pd.to_numeric(receipts_df[col], errors='coerce')\n",
    "\n",
    "# Check for negative values after conversion\n",
    "negative_values = receipts_df[(receipts_df['bonusPointsEarned'] < 0) |\n",
    "                               (receipts_df['pointsEarned'] < 0) |\n",
    "                               (receipts_df['purchasedItemCount'] < 0) |\n",
    "                               (receipts_df['totalSpent'] < 0)]\n",
    "\n",
    "print(\"\\nNumber of rows with negative values in numeric columns:\", len(negative_values))\n",
    "print(\"Negative value rows:\")\n",
    "print(negative_values)"
   ]
  },
  {
   "cell_type": "code",
   "execution_count": 22,
   "id": "906aceeb-49bb-45a5-a890-d768d3704225",
   "metadata": {},
   "outputs": [
    {
     "name": "stdout",
     "output_type": "stream",
     "text": [
      "Missing Values (Count and Percentage):\n",
      "receipt_id                    0\n",
      "barcode                    3851\n",
      "brandCode                  4341\n",
      "description                 381\n",
      "finalPrice                  174\n",
      "itemPrice                   174\n",
      "partnerItemId                 0\n",
      "quantityPurchased           174\n",
      "rewardsGroup               5210\n",
      "rewardsProductPartnerId    4672\n",
      "pointsEarned               6014\n",
      "pointsPayerId              5674\n",
      "needsFetchReview           6128\n",
      "userFlaggedBarcode         6604\n",
      "userFlaggedPrice           6642\n",
      "userFlaggedQuantity        6642\n",
      "userFlaggedNewItem         6618\n",
      "dtype: int64\n",
      "receipt_id                  0.000000\n",
      "barcode                    55.481919\n",
      "brandCode                  62.541421\n",
      "description                 5.489123\n",
      "finalPrice                  2.506843\n",
      "itemPrice                   2.506843\n",
      "partnerItemId               0.000000\n",
      "quantityPurchased           2.506843\n",
      "rewardsGroup               75.061230\n",
      "rewardsProductPartnerId    67.310186\n",
      "pointsEarned               86.644576\n",
      "pointsPayerId              81.746146\n",
      "needsFetchReview           88.286990\n",
      "userFlaggedBarcode         95.144792\n",
      "userFlaggedPrice           95.692263\n",
      "userFlaggedQuantity        95.692263\n",
      "userFlaggedNewItem         95.346492\n",
      "dtype: float64\n"
     ]
    }
   ],
   "source": [
    "# Check for missing values in each column\n",
    "missing_values = rewards_items_df.isnull().sum()\n",
    "missing_percentage = (missing_values / len(rewards_items_df)) * 100\n",
    "print(\"Missing Values (Count and Percentage):\")\n",
    "print(missing_values)\n",
    "print(missing_percentage)"
   ]
  },
  {
   "cell_type": "code",
   "execution_count": 23,
   "id": "76086f1d-737f-420d-a27e-2c29ffcfc39e",
   "metadata": {},
   "outputs": [
    {
     "name": "stdout",
     "output_type": "stream",
     "text": [
      "\n",
      "Rows with negative or invalid numeric values:\n",
      "Empty DataFrame\n",
      "Columns: [receipt_id, barcode, brandCode, description, finalPrice, itemPrice, partnerItemId, quantityPurchased, rewardsGroup, rewardsProductPartnerId, pointsEarned, pointsPayerId, needsFetchReview, userFlaggedBarcode, userFlaggedPrice, userFlaggedQuantity, userFlaggedNewItem]\n",
      "Index: []\n"
     ]
    }
   ],
   "source": [
    "# Ensure numeric columns are properly converted to numeric\n",
    "numeric_columns = ['finalPrice', 'itemPrice', 'pointsEarned', 'userFlaggedPrice', 'userFlaggedQuantity']\n",
    "for col in numeric_columns:\n",
    "    rewards_items_df[col] = pd.to_numeric(rewards_items_df[col], errors='coerce')\n",
    "\n",
    "# Identify rows with negative or invalid numeric values\n",
    "invalid_numeric = rewards_items_df[(rewards_items_df[numeric_columns] < 0).any(axis=1)]\n",
    "print(\"\\nRows with negative or invalid numeric values:\")\n",
    "print(invalid_numeric)"
   ]
  },
  {
   "cell_type": "code",
   "execution_count": 24,
   "id": "22dab9ce-acfb-46a9-b512-557ba8aae49e",
   "metadata": {},
   "outputs": [
    {
     "name": "stdout",
     "output_type": "stream",
     "text": [
      "\n",
      "Number of duplicated rows (all columns): 0\n",
      "Duplicated rows (all columns):\n",
      "Empty DataFrame\n",
      "Columns: [receipt_id, barcode, brandCode, description, finalPrice, itemPrice, partnerItemId, quantityPurchased, rewardsGroup, rewardsProductPartnerId, pointsEarned, pointsPayerId, needsFetchReview, userFlaggedBarcode, userFlaggedPrice, userFlaggedQuantity, userFlaggedNewItem]\n",
      "Index: []\n"
     ]
    }
   ],
   "source": [
    "# Check for duplicate rows based on all columns\n",
    "duplicated_rows_all_columns = rewards_items_df[rewards_items_df.duplicated(keep=False)]\n",
    "\n",
    "# Print the number of duplicated rows and the rows themselves\n",
    "print(\"\\nNumber of duplicated rows (all columns):\", len(duplicated_rows_all_columns))\n",
    "print(\"Duplicated rows (all columns):\")\n",
    "print(duplicated_rows_all_columns)"
   ]
  },
  {
   "cell_type": "code",
   "execution_count": 25,
   "id": "b2d906ee-f2fa-46b6-9b48-f210cabc1cb1",
   "metadata": {},
   "outputs": [
    {
     "name": "stdout",
     "output_type": "stream",
     "text": [
      "\n",
      "Number of rows with negative values in numeric columns: 0\n",
      "Rows with negative values:\n",
      "Empty DataFrame\n",
      "Columns: [receipt_id, barcode, brandCode, description, finalPrice, itemPrice, partnerItemId, quantityPurchased, rewardsGroup, rewardsProductPartnerId, pointsEarned, pointsPayerId, needsFetchReview, userFlaggedBarcode, userFlaggedPrice, userFlaggedQuantity, userFlaggedNewItem]\n",
      "Index: []\n"
     ]
    }
   ],
   "source": [
    "# Convert all numeric columns to proper numeric types\n",
    "numeric_columns = rewards_items_df.select_dtypes(include=['number']).columns\n",
    "\n",
    "# Identify rows with negative values in any numeric column\n",
    "negative_values = rewards_items_df[(rewards_items_df[numeric_columns] < 0).any(axis=1)]\n",
    "\n",
    "# Print the number of rows with negative values and the rows themselves\n",
    "print(\"\\nNumber of rows with negative values in numeric columns:\", len(negative_values))\n",
    "print(\"Rows with negative values:\")\n",
    "print(negative_values)"
   ]
  },
  {
   "cell_type": "markdown",
   "id": "6ce667ca-0a77-4df7-9c2c-48e4b27a4cc1",
   "metadata": {},
   "source": [
    "SQL Queries to Answer Following Business Questions:\n",
    "\n",
    "Which brand has the most spend among users who were created within the past 6 months?\n",
    "Which brand has the most transactions among users who were created within the past 6 months?"
   ]
  },
  {
   "cell_type": "code",
   "execution_count": 40,
   "id": "724dda90-7483-48cf-96b8-a4da0614c1f3",
   "metadata": {},
   "outputs": [],
   "source": [
    "import pandasql as ps"
   ]
  },
  {
   "cell_type": "markdown",
   "id": "e1c304c9-54fc-47de-a377-40ae2149280d",
   "metadata": {},
   "source": [
    "To be clarified: since today is 01/19/2025, when I check the data I realized that there will not be users create accounts within six months (days after 07/22/2024) from the table provided, I will assume to use the latest login date as today, which is 2021-03-05. The SQL dialect will be MySQL"
   ]
  },
  {
   "cell_type": "code",
   "execution_count": 66,
   "id": "a888593e-8e80-4088-aa2a-7bb109af1c65",
   "metadata": {},
   "outputs": [
    {
     "data": {
      "text/html": [
       "<div>\n",
       "<style scoped>\n",
       "    .dataframe tbody tr th:only-of-type {\n",
       "        vertical-align: middle;\n",
       "    }\n",
       "\n",
       "    .dataframe tbody tr th {\n",
       "        vertical-align: top;\n",
       "    }\n",
       "\n",
       "    .dataframe thead th {\n",
       "        text-align: right;\n",
       "    }\n",
       "</style>\n",
       "<table border=\"1\" class=\"dataframe\">\n",
       "  <thead>\n",
       "    <tr style=\"text-align: right;\">\n",
       "      <th></th>\n",
       "      <th>brand_name</th>\n",
       "      <th>total_spend</th>\n",
       "    </tr>\n",
       "  </thead>\n",
       "  <tbody>\n",
       "    <tr>\n",
       "      <th>0</th>\n",
       "      <td>Tostitos</td>\n",
       "      <td>15799.37</td>\n",
       "    </tr>\n",
       "    <tr>\n",
       "      <th>1</th>\n",
       "      <td>Pepperidge Farm</td>\n",
       "      <td>14165.85</td>\n",
       "    </tr>\n",
       "    <tr>\n",
       "      <th>2</th>\n",
       "      <td>V8</td>\n",
       "      <td>9443.90</td>\n",
       "    </tr>\n",
       "    <tr>\n",
       "      <th>3</th>\n",
       "      <td>Prego</td>\n",
       "      <td>9443.90</td>\n",
       "    </tr>\n",
       "    <tr>\n",
       "      <th>4</th>\n",
       "      <td>Swanson</td>\n",
       "      <td>7187.14</td>\n",
       "    </tr>\n",
       "    <tr>\n",
       "      <th>5</th>\n",
       "      <td>Cracker Barrel Cheese</td>\n",
       "      <td>4885.89</td>\n",
       "    </tr>\n",
       "    <tr>\n",
       "      <th>6</th>\n",
       "      <td>Jell-O</td>\n",
       "      <td>4721.95</td>\n",
       "    </tr>\n",
       "    <tr>\n",
       "      <th>7</th>\n",
       "      <td>Cheetos</td>\n",
       "      <td>4721.95</td>\n",
       "    </tr>\n",
       "    <tr>\n",
       "      <th>8</th>\n",
       "      <td>Kettle Brand</td>\n",
       "      <td>2400.91</td>\n",
       "    </tr>\n",
       "    <tr>\n",
       "      <th>9</th>\n",
       "      <td>Grey Poupon</td>\n",
       "      <td>743.79</td>\n",
       "    </tr>\n",
       "  </tbody>\n",
       "</table>\n",
       "</div>"
      ],
      "text/plain": [
       "              brand_name  total_spend\n",
       "0               Tostitos     15799.37\n",
       "1        Pepperidge Farm     14165.85\n",
       "2                     V8      9443.90\n",
       "3                  Prego      9443.90\n",
       "4                Swanson      7187.14\n",
       "5  Cracker Barrel Cheese      4885.89\n",
       "6                 Jell-O      4721.95\n",
       "7                Cheetos      4721.95\n",
       "8           Kettle Brand      2400.91\n",
       "9            Grey Poupon       743.79"
      ]
     },
     "execution_count": 66,
     "metadata": {},
     "output_type": "execute_result"
    }
   ],
   "source": [
    "\n",
    "query = \"\"\"\n",
    "\n",
    "SELECT \n",
    "    b.name AS brand_name,\n",
    "    SUM(r1.totalSpent) AS total_spend\n",
    "FROM \n",
    "    receipts_df r1\n",
    "LEFT JOIN \n",
    "    rewards_items_df r2 \n",
    "    ON r1.receipt_id = r2.receipt_id\n",
    "LEFT JOIN \n",
    "    brands_df b \n",
    "    ON r2.barcode = b.barcode AND r2.brandCode = b.brand_code\n",
    "WHERE \n",
    "    r1.userId IN (\n",
    "        SELECT DISTINCT \n",
    "            user_id\n",
    "        FROM \n",
    "            users_df\n",
    "        WHERE \n",
    "            created_date >= (\n",
    "                SELECT \n",
    "                    DATETIME(MAX(last_login), '-6 months') \n",
    "                FROM \n",
    "                    users_df\n",
    "                WHERE \n",
    "                    role = 'consumer'\n",
    "            )\n",
    "    )\n",
    "    AND b.name IS NOT NULL\n",
    "GROUP BY \n",
    "    b.name\n",
    "ORDER BY \n",
    "    total_spend DESC\n",
    "\"\"\"\n",
    "\n",
    "# Execute the query\n",
    "result = ps.sqldf(query, locals())\n",
    "result"
   ]
  },
  {
   "cell_type": "markdown",
   "id": "e964cbd4-3297-4779-910c-f2980ff62b21",
   "metadata": {},
   "source": [
    "Which brand has the most spend among users who were created within the past 6 months?\n",
    "Answer: Tostitos"
   ]
  },
  {
   "cell_type": "code",
   "execution_count": 70,
   "id": "b5e224af-0f4c-4b42-bf0e-e758157c2b6a",
   "metadata": {},
   "outputs": [
    {
     "data": {
      "text/html": [
       "<div>\n",
       "<style scoped>\n",
       "    .dataframe tbody tr th:only-of-type {\n",
       "        vertical-align: middle;\n",
       "    }\n",
       "\n",
       "    .dataframe tbody tr th {\n",
       "        vertical-align: top;\n",
       "    }\n",
       "\n",
       "    .dataframe thead th {\n",
       "        text-align: right;\n",
       "    }\n",
       "</style>\n",
       "<table border=\"1\" class=\"dataframe\">\n",
       "  <thead>\n",
       "    <tr style=\"text-align: right;\">\n",
       "      <th></th>\n",
       "      <th>brand_name</th>\n",
       "      <th>transaction_counts</th>\n",
       "    </tr>\n",
       "  </thead>\n",
       "  <tbody>\n",
       "    <tr>\n",
       "      <th>0</th>\n",
       "      <td>Tostitos</td>\n",
       "      <td>11</td>\n",
       "    </tr>\n",
       "    <tr>\n",
       "      <th>1</th>\n",
       "      <td>Swanson</td>\n",
       "      <td>11</td>\n",
       "    </tr>\n",
       "    <tr>\n",
       "      <th>2</th>\n",
       "      <td>Kettle Brand</td>\n",
       "      <td>3</td>\n",
       "    </tr>\n",
       "    <tr>\n",
       "      <th>3</th>\n",
       "      <td>Cracker Barrel Cheese</td>\n",
       "      <td>2</td>\n",
       "    </tr>\n",
       "    <tr>\n",
       "      <th>4</th>\n",
       "      <td>V8</td>\n",
       "      <td>1</td>\n",
       "    </tr>\n",
       "    <tr>\n",
       "      <th>5</th>\n",
       "      <td>Prego</td>\n",
       "      <td>1</td>\n",
       "    </tr>\n",
       "    <tr>\n",
       "      <th>6</th>\n",
       "      <td>Pepperidge Farm</td>\n",
       "      <td>1</td>\n",
       "    </tr>\n",
       "    <tr>\n",
       "      <th>7</th>\n",
       "      <td>Jell-O</td>\n",
       "      <td>1</td>\n",
       "    </tr>\n",
       "    <tr>\n",
       "      <th>8</th>\n",
       "      <td>Grey Poupon</td>\n",
       "      <td>1</td>\n",
       "    </tr>\n",
       "    <tr>\n",
       "      <th>9</th>\n",
       "      <td>Cheetos</td>\n",
       "      <td>1</td>\n",
       "    </tr>\n",
       "  </tbody>\n",
       "</table>\n",
       "</div>"
      ],
      "text/plain": [
       "              brand_name  transaction_counts\n",
       "0               Tostitos                  11\n",
       "1                Swanson                  11\n",
       "2           Kettle Brand                   3\n",
       "3  Cracker Barrel Cheese                   2\n",
       "4                     V8                   1\n",
       "5                  Prego                   1\n",
       "6        Pepperidge Farm                   1\n",
       "7                 Jell-O                   1\n",
       "8            Grey Poupon                   1\n",
       "9                Cheetos                   1"
      ]
     },
     "execution_count": 70,
     "metadata": {},
     "output_type": "execute_result"
    }
   ],
   "source": [
    "query_1 = \"\"\"\n",
    "\n",
    "SELECT \n",
    "    b.name AS brand_name,\n",
    "    count(distinct r1.receipt_id) AS transaction_counts\n",
    "FROM \n",
    "    receipts_df r1\n",
    "LEFT JOIN \n",
    "    rewards_items_df r2 \n",
    "    ON r1.receipt_id = r2.receipt_id\n",
    "LEFT JOIN \n",
    "    brands_df b \n",
    "    ON r2.barcode = b.barcode AND r2.brandCode = b.brand_code\n",
    "WHERE \n",
    "    r1.userId IN (\n",
    "        SELECT DISTINCT \n",
    "            user_id\n",
    "        FROM \n",
    "            users_df\n",
    "        WHERE \n",
    "            created_date >= (\n",
    "                SELECT \n",
    "                    DATETIME(MAX(last_login), '-6 months') \n",
    "                FROM \n",
    "                    users_df\n",
    "                WHERE \n",
    "                    role = 'consumer'\n",
    "            )\n",
    "    )\n",
    "    AND b.name IS NOT NULL\n",
    "GROUP BY \n",
    "    b.name\n",
    "ORDER BY \n",
    "    transaction_counts DESC\n",
    "\"\"\"\n",
    "\n",
    "# Execute the query\n",
    "result_1 = ps.sqldf(query_1, locals())\n",
    "result_1"
   ]
  },
  {
   "cell_type": "markdown",
   "id": "6294aff1-c79c-4074-b1cd-7eb7a6abfc52",
   "metadata": {},
   "source": [
    "Which brand has the most transactions among users who were created within the past 6 months?\n",
    "Answer: Tostitos and Swanson"
   ]
  }
 ],
 "metadata": {
  "kernelspec": {
   "display_name": "anaconda-ai-2024.04-py310",
   "language": "python",
   "name": "conda-env-anaconda-ai-2024.04-py310-py"
  },
  "language_info": {
   "codemirror_mode": {
    "name": "ipython",
    "version": 3
   },
   "file_extension": ".py",
   "mimetype": "text/x-python",
   "name": "python",
   "nbconvert_exporter": "python",
   "pygments_lexer": "ipython3",
   "version": "3.10.13"
  }
 },
 "nbformat": 4,
 "nbformat_minor": 5
}
